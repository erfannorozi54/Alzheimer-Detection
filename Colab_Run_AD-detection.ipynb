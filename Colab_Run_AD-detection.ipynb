{
 "cells": [
  {
   "cell_type": "markdown",
   "id": "bb253700",
   "metadata": {},
   "source": [
    "# AD-detection: Google Colab Quickstart\n",
    "\n",
    "This notebook will:\n",
    "1. Clone the AD-detection repository from GitHub\n",
    "2. Install required dependencies\n",
    "3. Run `main.py` and display the output\n",
    "\n",
    "---\n",
    "\n",
    "## 1. Clone the repository"
   ]
  },
  {
   "cell_type": "code",
   "execution_count": null,
   "id": "ae92e2f1",
   "metadata": {},
   "outputs": [
    {
     "name": "stdout",
     "output_type": "stream",
     "text": [
      "/bin/bash: line 1: your-username: No such file or directory\n",
      "[Errno 2] No such file or directory: 'AD-detection'\n",
      "/home/erfan/Projects/AD-detection\n"
     ]
    },
    {
     "name": "stderr",
     "output_type": "stream",
     "text": [
      "/home/erfan/.virtualenvs/test/lib/python3.10/site-packages/IPython/core/magics/osm.py:393: UserWarning: This is now an optional IPython functionality, using bookmarks requires you to install the `pickleshare` library.\n",
      "  bkms = self.shell.db.get('bookmarks', {})\n"
     ]
    }
   ],
   "source": [
    "from google.colab import drive\n",
    "drive.mount('/content/drive')\n",
    "\n",
    "!git clone https://github.com/<your-username>/AD-detection.git\n",
    "%cd AD-detection"
   ]
  },
  {
   "cell_type": "markdown",
   "id": "2f3ce84d",
   "metadata": {},
   "source": [
    "## 2. Install dependencies"
   ]
  },
  {
   "cell_type": "code",
   "execution_count": null,
   "id": "afb513f3",
   "metadata": {},
   "outputs": [],
   "source": [
    "%pip install -r requirements.txt || pip install ucimlrepo scikit-learn xgboost lightgbm catboost matplotlib seaborn pandas"
   ]
  },
  {
   "cell_type": "markdown",
   "id": "afa26ce2",
   "metadata": {},
   "source": [
    "## 3. Run main.py"
   ]
  },
  {
   "cell_type": "code",
   "execution_count": null,
   "id": "6868cffa",
   "metadata": {},
   "outputs": [],
   "source": [
    "!python main.py"
   ]
  },
  {
   "cell_type": "markdown",
   "id": "936ece91",
   "metadata": {},
   "source": [
    "\n",
    "## 4. View Results\n",
    "\n",
    "- Output files and plots will be saved in the `results/` folder.\n",
    "- Logs and CSVs will be in the project root.\n"
   ]
  }
 ],
 "metadata": {
  "kernelspec": {
   "display_name": "test",
   "language": "python",
   "name": "python3"
  },
  "language_info": {
   "codemirror_mode": {
    "name": "ipython",
    "version": 3
   },
   "file_extension": ".py",
   "mimetype": "text/x-python",
   "name": "python",
   "nbconvert_exporter": "python",
   "pygments_lexer": "ipython3",
   "version": "3.10.17"
  }
 },
 "nbformat": 4,
 "nbformat_minor": 5
}
